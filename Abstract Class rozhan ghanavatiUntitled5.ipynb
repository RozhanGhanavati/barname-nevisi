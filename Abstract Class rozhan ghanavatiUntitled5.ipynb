{
  "nbformat": 4,
  "nbformat_minor": 0,
  "metadata": {
    "colab": {
      "provenance": [],
      "authorship_tag": "ABX9TyPDSoQSahJoOUAHDEd6Guiq",
      "include_colab_link": true
    },
    "kernelspec": {
      "name": "python3",
      "display_name": "Python 3"
    },
    "language_info": {
      "name": "python"
    }
  },
  "cells": [
    {
      "cell_type": "markdown",
      "metadata": {
        "id": "view-in-github",
        "colab_type": "text"
      },
      "source": [
        "<a href=\"https://colab.research.google.com/github/RozhanGhanavati/barname-nevisi/blob/main/Abstract%20Class%20rozhan%20ghanavatiUntitled5.ipynb\" target=\"_parent\"><img src=\"https://colab.research.google.com/assets/colab-badge.svg\" alt=\"Open In Colab\"/></a>"
      ]
    },
    {
      "cell_type": "code",
      "source": [
        "from abc import ABC, abstractmethod\n",
        "\n",
        "class Animal(ABC):\n",
        "    def __init__(self, name):\n",
        "        self._name = name\n",
        "\n",
        "    @property\n",
        "    def name(self):\n",
        "        return self._name\n",
        "\n",
        "    @name.setter\n",
        "    def name(self, value):\n",
        "        self._name = value\n",
        "\n",
        "    @abstractmethod\n",
        "    def sound(self):\n",
        "        pass\n",
        "\n",
        "class Dog(Animal):\n",
        "    def sound(self):\n",
        "        return \"Woof!\"\n",
        "\n",
        "class Cat(Animal):\n",
        "    def sound(self):\n",
        "        return \"Meow!\"\n",
        "\n",
        "dog = Dog(\"Fido\")\n",
        "print(dog.name)  # Fido\n",
        "dog.name = \"Buddy\"\n",
        "print(dog.name)  # Buddy\n",
        "print(dog.sound())  # Woof!\n",
        "\n",
        "cat = Cat(\"Whiskers\")\n",
        "print(cat.name)  # Whiskers\n",
        "cat.name = \"Fluffy\"\n",
        "print(cat.name)  # Fluffy\n",
        "print(cat.sound())  # Meow!"
      ],
      "metadata": {
        "id": "MVSleLQp1iiI",
        "outputId": "46e10522-b7d4-49bd-dc47-8e6a694d9075",
        "colab": {
          "base_uri": "https://localhost:8080/"
        }
      },
      "execution_count": 4,
      "outputs": [
        {
          "output_type": "stream",
          "name": "stdout",
          "text": [
            "Fido\n",
            "Buddy\n",
            "Woof!\n",
            "Whiskers\n",
            "Fluffy\n",
            "Meow!\n"
          ]
        }
      ]
    }
  ]
}