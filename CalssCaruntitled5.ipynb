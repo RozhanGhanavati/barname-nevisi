{
  "nbformat": 4,
  "nbformat_minor": 0,
  "metadata": {
    "colab": {
      "provenance": [],
      "authorship_tag": "ABX9TyP2I1YYAc2dE2AH4Ek9gAsi",
      "include_colab_link": true
    },
    "kernelspec": {
      "name": "python3",
      "display_name": "Python 3"
    },
    "language_info": {
      "name": "python"
    }
  },
  "cells": [
    {
      "cell_type": "markdown",
      "metadata": {
        "id": "view-in-github",
        "colab_type": "text"
      },
      "source": [
        "<a href=\"https://colab.research.google.com/github/Whyoblomovisme/barname-nevisi/blob/main/CalssCaruntitled5.ipynb\" target=\"_parent\"><img src=\"https://colab.research.google.com/assets/colab-badge.svg\" alt=\"Open In Colab\"/></a>"
      ]
    },
    {
      "cell_type": "code",
      "source": [
        "class car:\n",
        "    def __init__(self, name, w):\n",
        "         self.name=name\n",
        "         self.w=w\n",
        "    def __lt__(self, other):\n",
        "         return self.w<other.w\n",
        "car1=car('k',100)\n",
        "car2=car('p', 200)\n",
        "print(car1<car2)"
      ],
      "metadata": {
        "colab": {
          "base_uri": "https://localhost:8080/"
        },
        "id": "AlXtAPlEP7hJ",
        "outputId": "aea275cf-ae7f-4ed6-8021-6498af09a069"
      },
      "execution_count": null,
      "outputs": [
        {
          "output_type": "stream",
          "name": "stdout",
          "text": [
            "True\n"
          ]
        }
      ]
    }
  ]
}