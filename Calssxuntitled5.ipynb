{
  "nbformat": 4,
  "nbformat_minor": 0,
  "metadata": {
    "colab": {
      "provenance": [],
      "authorship_tag": "ABX9TyNPpKzBrCgPKYXFcxNgcF+q",
      "include_colab_link": true
    },
    "kernelspec": {
      "name": "python3",
      "display_name": "Python 3"
    },
    "language_info": {
      "name": "python"
    }
  },
  "cells": [
    {
      "cell_type": "markdown",
      "metadata": {
        "id": "view-in-github",
        "colab_type": "text"
      },
      "source": [
        "<a href=\"https://colab.research.google.com/github/Whyoblomovisme/barname-nevisi/blob/main/Calssxuntitled5.ipynb\" target=\"_parent\"><img src=\"https://colab.research.google.com/assets/colab-badge.svg\" alt=\"Open In Colab\"/></a>"
      ]
    },
    {
      "cell_type": "code",
      "source": [
        "class x:\n",
        "     def test(self,k=10,p=10):\n",
        "       if(k!=10 and p!=10):\n",
        "        self.k=k\n",
        "        self.p=p\n",
        "        return k*p\n",
        "       elif(k is not 10 and p==10):\n",
        "        return 3.14*k*k\n",
        "       else :\n",
        "        return 100"
      ],
      "metadata": {
        "colab": {
          "base_uri": "https://localhost:8080/"
        },
        "id": "anNcEidLT0sP",
        "outputId": "d0d3c139-9c00-437b-a3b4-32edff834814"
      },
      "execution_count": null,
      "outputs": [
        {
          "output_type": "stream",
          "name": "stderr",
          "text": [
            "<>:7: SyntaxWarning: \"is not\" with a literal. Did you mean \"!=\"?\n",
            "<>:7: SyntaxWarning: \"is not\" with a literal. Did you mean \"!=\"?\n",
            "<ipython-input-23-90aa6ca1bc15>:7: SyntaxWarning: \"is not\" with a literal. Did you mean \"!=\"?\n",
            "  elif(k is not 10 and p==10):\n"
          ]
        }
      ]
    }
  ]
}