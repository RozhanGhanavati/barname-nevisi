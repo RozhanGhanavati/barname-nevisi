{
  "nbformat": 4,
  "nbformat_minor": 0,
  "metadata": {
    "colab": {
      "provenance": [],
      "authorship_tag": "ABX9TyOIN3D0FgBklOusFyI9sno9",
      "include_colab_link": true
    },
    "kernelspec": {
      "name": "python3",
      "display_name": "Python 3"
    },
    "language_info": {
      "name": "python"
    }
  },
  "cells": [
    {
      "cell_type": "markdown",
      "metadata": {
        "id": "view-in-github",
        "colab_type": "text"
      },
      "source": [
        "<a href=\"https://colab.research.google.com/github/Whyoblomovisme/barname-nevisi/blob/main/Class%20name%20untitled5.ipynb\" target=\"_parent\"><img src=\"https://colab.research.google.com/assets/colab-badge.svg\" alt=\"Open In Colab\"/></a>"
      ]
    },
    {
      "cell_type": "markdown",
      "source": [],
      "metadata": {
        "id": "OFQSfNtApWFd"
      }
    },
    {
      "cell_type": "code",
      "source": [
        "class A:\n",
        "    name='Ali'\n",
        "    age=25\n",
        "A.name='reza'\n",
        "print (A.name)\n",
        "test=A()\n",
        "test. name='Ahmad'"
      ],
      "metadata": {
        "colab": {
          "base_uri": "https://localhost:8080/"
        },
        "id": "ty1kFRcpLOp6",
        "outputId": "5861af4c-cbac-4b99-8cfa-5f06f7da32b8"
      },
      "execution_count": 15,
      "outputs": [
        {
          "output_type": "stream",
          "name": "stdout",
          "text": [
            "reza\n"
          ]
        }
      ]
    },
    {
      "cell_type": "code",
      "source": [
        "print(test.age)\n",
        "print(getattr(A,'name','hassan' ))\n",
        "setattr(A, 'name', 'hassan')"
      ],
      "metadata": {
        "id": "JJBBFXikQHQt",
        "outputId": "95431a65-2ebb-4d56-a680-e144e1b33911",
        "colab": {
          "base_uri": "https://localhost:8080/"
        }
      },
      "execution_count": 16,
      "outputs": [
        {
          "output_type": "stream",
          "name": "stdout",
          "text": [
            "25\n",
            "reza\n"
          ]
        }
      ]
    }
  ]
}