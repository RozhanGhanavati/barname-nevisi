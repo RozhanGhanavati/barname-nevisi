{
  "nbformat": 4,
  "nbformat_minor": 0,
  "metadata": {
    "colab": {
      "provenance": [],
      "authorship_tag": "ABX9TyPm5DbTSWo0dNTp3VQ/nM0e",
      "include_colab_link": true
    },
    "kernelspec": {
      "name": "python3",
      "display_name": "Python 3"
    },
    "language_info": {
      "name": "python"
    }
  },
  "cells": [
    {
      "cell_type": "markdown",
      "metadata": {
        "id": "view-in-github",
        "colab_type": "text"
      },
      "source": [
        "<a href=\"https://colab.research.google.com/github/RozhanGhanavati/barname-nevisi/blob/main/Getter%20and%20Setter%20rozhan%20ghanavatiUntitled5.ipynb\" target=\"_parent\"><img src=\"https://colab.research.google.com/assets/colab-badge.svg\" alt=\"Open In Colab\"/></a>"
      ]
    },
    {
      "cell_type": "code",
      "source": [
        "class ConditionalClass:\n",
        "    def init(self, condition):\n",
        "        self.condition = condition\n",
        "\n",
        "    def define_attributes(self):\n",
        "        if self.condition == 'positive':\n",
        "            setattr(self, 'attr1', 'Positive attribute')\n",
        "            setattr(self, 'attr2', 10)\n",
        "        elif self.condition == 'negative':\n",
        "            setattr(self, 'attr1', 'Negative attribute')\n",
        "            setattr(self, 'attr2', -10)\n",
        "        else:\n",
        "            setattr(self, 'attr1', 'Neutral attribute')\n",
        "            setattr(self, 'attr2', 0)\n",
        "\n",
        "    def getattr(self, name):\n",
        "        if name.startswith('attr'):\n",
        "            return f\"Default value for {name}\"\n",
        "        raise AttributeError(f\"'ConditionalClass' object has no attribute '{name}'\")"
      ],
      "metadata": {
        "id": "aK8byqynytLi"
      },
      "execution_count": 2,
      "outputs": []
    }
  ]
}