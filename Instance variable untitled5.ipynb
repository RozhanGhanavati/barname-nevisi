{
  "nbformat": 4,
  "nbformat_minor": 0,
  "metadata": {
    "colab": {
      "provenance": [],
      "authorship_tag": "ABX9TyNBosbNDzGhp8tQ9vtpyhst",
      "include_colab_link": true
    },
    "kernelspec": {
      "name": "python3",
      "display_name": "Python 3"
    },
    "language_info": {
      "name": "python"
    }
  },
  "cells": [
    {
      "cell_type": "markdown",
      "metadata": {
        "id": "view-in-github",
        "colab_type": "text"
      },
      "source": [
        "<a href=\"https://colab.research.google.com/github/Whyoblomovisme/barname-nevisi/blob/main/Instance%20variable%20untitled5.ipynb\" target=\"_parent\"><img src=\"https://colab.research.google.com/assets/colab-badge.svg\" alt=\"Open In Colab\"/></a>"
      ]
    },
    {
      "cell_type": "markdown",
      "source": [],
      "metadata": {
        "id": "OFQSfNtApWFd"
      }
    },
    {
      "cell_type": "code",
      "source": [
        "class b:\n",
        "    def setvar(self,a,b):\n",
        "        self.x=a\n",
        "        c=a*b\n",
        "        selfie.y=c\n",
        "t=b()"
      ],
      "metadata": {
        "id": "8OY2LwgYR22R"
      },
      "execution_count": null,
      "outputs": []
    }
  ]
}