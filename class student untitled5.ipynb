{
  "nbformat": 4,
  "nbformat_minor": 0,
  "metadata": {
    "colab": {
      "provenance": [],
      "authorship_tag": "ABX9TyO5Diez5glra2c6hoqAcl6N",
      "include_colab_link": true
    },
    "kernelspec": {
      "name": "python3",
      "display_name": "Python 3"
    },
    "language_info": {
      "name": "python"
    }
  },
  "cells": [
    {
      "cell_type": "markdown",
      "metadata": {
        "id": "view-in-github",
        "colab_type": "text"
      },
      "source": [
        "<a href=\"https://colab.research.google.com/github/Whyoblomovisme/barname-nevisi/blob/main/class%20student%20untitled5.ipynb\" target=\"_parent\"><img src=\"https://colab.research.google.com/assets/colab-badge.svg\" alt=\"Open In Colab\"/></a>"
      ]
    },
    {
      "cell_type": "markdown",
      "source": [],
      "metadata": {
        "id": "OFQSfNtApWFd"
      }
    },
    {
      "cell_type": "code",
      "source": [
        "class student:\n",
        "    def __init__(self,id=1111,name='reza'):\n",
        "          self.id=id\n",
        "          self.name=name\n",
        "    def __del__(self):\n",
        "          print(self.name,'deleted')"
      ],
      "metadata": {
        "id": "EC1HFObqU_fa"
      },
      "execution_count": 15,
      "outputs": []
    }
  ]
}